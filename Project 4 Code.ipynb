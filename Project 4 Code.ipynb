{
 "cells": [
  {
   "cell_type": "code",
   "execution_count": 653,
   "id": "609dfe84",
   "metadata": {},
   "outputs": [],
   "source": [
    "import numpy as np\n",
    "import pandas as pd\n",
    "import matplotlib.pyplot as plt\n",
    "import seaborn as sns\n",
    "from sklearn.model_selection import train_test_split\n",
    "from tensorflow.keras.models import Sequential\n",
    "from tensorflow.keras.layers import Dense, Flatten, Conv2D, MaxPooling2D\n",
    "from tensorflow.keras import utils\n",
    "from tensorflow.keras.callbacks import EarlyStopping"
   ]
  },
  {
   "cell_type": "code",
   "execution_count": 633,
   "id": "d70304b8",
   "metadata": {},
   "outputs": [],
   "source": [
    "df = pd.read_csv('data/train.csv')"
   ]
  },
  {
   "cell_type": "code",
   "execution_count": 634,
   "id": "23d6072f",
   "metadata": {},
   "outputs": [
    {
     "data": {
      "text/html": [
       "<div>\n",
       "<style scoped>\n",
       "    .dataframe tbody tr th:only-of-type {\n",
       "        vertical-align: middle;\n",
       "    }\n",
       "\n",
       "    .dataframe tbody tr th {\n",
       "        vertical-align: top;\n",
       "    }\n",
       "\n",
       "    .dataframe thead th {\n",
       "        text-align: right;\n",
       "    }\n",
       "</style>\n",
       "<table border=\"1\" class=\"dataframe\">\n",
       "  <thead>\n",
       "    <tr style=\"text-align: right;\">\n",
       "      <th></th>\n",
       "      <th>label</th>\n",
       "      <th>pixel0</th>\n",
       "      <th>pixel1</th>\n",
       "      <th>pixel2</th>\n",
       "      <th>pixel3</th>\n",
       "      <th>pixel4</th>\n",
       "      <th>pixel5</th>\n",
       "      <th>pixel6</th>\n",
       "      <th>pixel7</th>\n",
       "      <th>pixel8</th>\n",
       "      <th>...</th>\n",
       "      <th>pixel774</th>\n",
       "      <th>pixel775</th>\n",
       "      <th>pixel776</th>\n",
       "      <th>pixel777</th>\n",
       "      <th>pixel778</th>\n",
       "      <th>pixel779</th>\n",
       "      <th>pixel780</th>\n",
       "      <th>pixel781</th>\n",
       "      <th>pixel782</th>\n",
       "      <th>pixel783</th>\n",
       "    </tr>\n",
       "  </thead>\n",
       "  <tbody>\n",
       "    <tr>\n",
       "      <th>0</th>\n",
       "      <td>0</td>\n",
       "      <td>0</td>\n",
       "      <td>0</td>\n",
       "      <td>0</td>\n",
       "      <td>0</td>\n",
       "      <td>0</td>\n",
       "      <td>0</td>\n",
       "      <td>0</td>\n",
       "      <td>0</td>\n",
       "      <td>0</td>\n",
       "      <td>...</td>\n",
       "      <td>0</td>\n",
       "      <td>0</td>\n",
       "      <td>0</td>\n",
       "      <td>0</td>\n",
       "      <td>0</td>\n",
       "      <td>0</td>\n",
       "      <td>0</td>\n",
       "      <td>0</td>\n",
       "      <td>0</td>\n",
       "      <td>0</td>\n",
       "    </tr>\n",
       "    <tr>\n",
       "      <th>1</th>\n",
       "      <td>1</td>\n",
       "      <td>0</td>\n",
       "      <td>0</td>\n",
       "      <td>0</td>\n",
       "      <td>0</td>\n",
       "      <td>0</td>\n",
       "      <td>0</td>\n",
       "      <td>0</td>\n",
       "      <td>0</td>\n",
       "      <td>0</td>\n",
       "      <td>...</td>\n",
       "      <td>0</td>\n",
       "      <td>0</td>\n",
       "      <td>0</td>\n",
       "      <td>0</td>\n",
       "      <td>0</td>\n",
       "      <td>0</td>\n",
       "      <td>0</td>\n",
       "      <td>0</td>\n",
       "      <td>0</td>\n",
       "      <td>0</td>\n",
       "    </tr>\n",
       "    <tr>\n",
       "      <th>2</th>\n",
       "      <td>2</td>\n",
       "      <td>0</td>\n",
       "      <td>0</td>\n",
       "      <td>0</td>\n",
       "      <td>0</td>\n",
       "      <td>0</td>\n",
       "      <td>0</td>\n",
       "      <td>0</td>\n",
       "      <td>0</td>\n",
       "      <td>0</td>\n",
       "      <td>...</td>\n",
       "      <td>0</td>\n",
       "      <td>0</td>\n",
       "      <td>0</td>\n",
       "      <td>0</td>\n",
       "      <td>0</td>\n",
       "      <td>0</td>\n",
       "      <td>0</td>\n",
       "      <td>0</td>\n",
       "      <td>0</td>\n",
       "      <td>0</td>\n",
       "    </tr>\n",
       "    <tr>\n",
       "      <th>3</th>\n",
       "      <td>3</td>\n",
       "      <td>0</td>\n",
       "      <td>0</td>\n",
       "      <td>0</td>\n",
       "      <td>0</td>\n",
       "      <td>0</td>\n",
       "      <td>0</td>\n",
       "      <td>0</td>\n",
       "      <td>0</td>\n",
       "      <td>0</td>\n",
       "      <td>...</td>\n",
       "      <td>0</td>\n",
       "      <td>0</td>\n",
       "      <td>0</td>\n",
       "      <td>0</td>\n",
       "      <td>0</td>\n",
       "      <td>0</td>\n",
       "      <td>0</td>\n",
       "      <td>0</td>\n",
       "      <td>0</td>\n",
       "      <td>0</td>\n",
       "    </tr>\n",
       "    <tr>\n",
       "      <th>4</th>\n",
       "      <td>4</td>\n",
       "      <td>0</td>\n",
       "      <td>0</td>\n",
       "      <td>0</td>\n",
       "      <td>0</td>\n",
       "      <td>0</td>\n",
       "      <td>0</td>\n",
       "      <td>0</td>\n",
       "      <td>0</td>\n",
       "      <td>0</td>\n",
       "      <td>...</td>\n",
       "      <td>0</td>\n",
       "      <td>0</td>\n",
       "      <td>0</td>\n",
       "      <td>0</td>\n",
       "      <td>0</td>\n",
       "      <td>0</td>\n",
       "      <td>0</td>\n",
       "      <td>0</td>\n",
       "      <td>0</td>\n",
       "      <td>0</td>\n",
       "    </tr>\n",
       "  </tbody>\n",
       "</table>\n",
       "<p>5 rows × 785 columns</p>\n",
       "</div>"
      ],
      "text/plain": [
       "   label  pixel0  pixel1  pixel2  pixel3  pixel4  pixel5  pixel6  pixel7  \\\n",
       "0      0       0       0       0       0       0       0       0       0   \n",
       "1      1       0       0       0       0       0       0       0       0   \n",
       "2      2       0       0       0       0       0       0       0       0   \n",
       "3      3       0       0       0       0       0       0       0       0   \n",
       "4      4       0       0       0       0       0       0       0       0   \n",
       "\n",
       "   pixel8  ...  pixel774  pixel775  pixel776  pixel777  pixel778  pixel779  \\\n",
       "0       0  ...         0         0         0         0         0         0   \n",
       "1       0  ...         0         0         0         0         0         0   \n",
       "2       0  ...         0         0         0         0         0         0   \n",
       "3       0  ...         0         0         0         0         0         0   \n",
       "4       0  ...         0         0         0         0         0         0   \n",
       "\n",
       "   pixel780  pixel781  pixel782  pixel783  \n",
       "0         0         0         0         0  \n",
       "1         0         0         0         0  \n",
       "2         0         0         0         0  \n",
       "3         0         0         0         0  \n",
       "4         0         0         0         0  \n",
       "\n",
       "[5 rows x 785 columns]"
      ]
     },
     "execution_count": 634,
     "metadata": {},
     "output_type": "execute_result"
    }
   ],
   "source": [
    "df.head()"
   ]
  },
  {
   "cell_type": "code",
   "execution_count": 654,
   "id": "1a95e0bd",
   "metadata": {},
   "outputs": [
    {
     "data": {
      "image/png": "[encoded data removed]",
      "text/plain": [
       "<Figure size 432x288 with 1 Axes>"
      ]
     },
     "metadata": {
      "needs_background": "light"
     },
     "output_type": "display_data"
    }
   ],
   "source": [
    "plt.title('Image Balance');\n",
    "sns.countplot(data=df, x='label');"
   ]
  },
  {
   "cell_type": "code",
   "execution_count": 655,
   "id": "08fb767a",
   "metadata": {},
   "outputs": [
    {
     "data": {
      "text/plain": [
       "0    0.1\n",
       "1    0.1\n",
       "2    0.1\n",
       "3    0.1\n",
       "4    0.1\n",
       "5    0.1\n",
       "6    0.1\n",
       "7    0.1\n",
       "8    0.1\n",
       "9    0.1\n",
       "Name: label, dtype: float64"
      ]
     },
     "execution_count": 655,
     "metadata": {},
     "output_type": "execute_result"
    }
   ],
   "source": [
    "# Baseline value\n",
    "df['label'].value_counts(normalize=True)"
   ]
  },
  {
   "cell_type": "markdown",
   "id": "a39b1079",
   "metadata": {},
   "source": [
    "The values are equally distributed in the training data, so we do not have to account for outliers."
   ]
  },
  {
   "cell_type": "code",
   "execution_count": 635,
   "id": "0f94df71",
   "metadata": {},
   "outputs": [],
   "source": [
    "X = df.drop(columns = 'label')\n",
    "y = df['label']\n",
    "\n",
    "X_train, X_test, y_train, y_test = train_test_split(X, y, random_state = 42)"
   ]
  },
  {
   "cell_type": "code",
   "execution_count": 652,
   "id": "a0ea69c5",
   "metadata": {},
   "outputs": [
    {
     "data": {
      "image/png": "[encoded data removed]",
      "text/plain": [
       "<Figure size 432x288 with 1 Axes>"
      ]
     },
     "metadata": {
      "needs_background": "light"
     },
     "output_type": "display_data"
    },
    {
     "data": {
      "image/png": "[encoded data removed]",
      "text/plain": [
       "<Figure size 432x288 with 1 Axes>"
      ]
     },
     "metadata": {
      "needs_background": "light"
     },
     "output_type": "display_data"
    },
    {
     "data": {
      "image/png": "[encoded data removed]",
      "text/plain": [
       "<Figure size 432x288 with 1 Axes>"
      ]
     },
     "metadata": {
      "needs_background": "light"
     },
     "output_type": "display_data"
    },
    {
     "data": {
      "image/png": "[encoded data removed]",
      "text/plain": [
       "<Figure size 432x288 with 1 Axes>"
      ]
     },
     "metadata": {
      "needs_background": "light"
     },
     "output_type": "display_data"
    },
    {
     "data": {
      "image/png": "[encoded data removed]",
      "text/plain": [
       "<Figure size 432x288 with 1 Axes>"
      ]
     },
     "metadata": {
      "needs_background": "light"
     },
     "output_type": "display_data"
    },
    {
     "data": {
      "image/png": "[encoded data removed]",
      "text/plain": [
       "<Figure size 432x288 with 1 Axes>"
      ]
     },
     "metadata": {
      "needs_background": "light"
     },
     "output_type": "display_data"
    },
    {
     "data": {
      "image/png": "[encoded data removed]",
      "text/plain": [
       "<Figure size 432x288 with 1 Axes>"
      ]
     },
     "metadata": {
      "needs_background": "light"
     },
     "output_type": "display_data"
    },
    {
     "data": {
      "image/png": "[encoded data removed]",
      "text/plain": [
       "<Figure size 432x288 with 1 Axes>"
      ]
     },
     "metadata": {
      "needs_background": "light"
     },
     "output_type": "display_data"
    },
    {
     "data": {
      "image/png": "[encoded data removed]",
      "text/plain": [
       "<Figure size 432x288 with 1 Axes>"
      ]
     },
     "metadata": {
      "needs_background": "light"
     },
     "output_type": "display_data"
    },
    {
     "data": {
      "image/png": "[encoded data removed]",
      "text/plain": [
       "<Figure size 432x288 with 1 Axes>"
      ]
     },
     "metadata": {
      "needs_background": "light"
     },
     "output_type": "display_data"
    }
   ],
   "source": [
    "X_plt = X.to_numpy()\n",
    "X_plt = X_plt.reshape(X_plt.shape[0], 28, 28, 1)\n",
    "\n",
    "# Show symbols for 0 to 9\n",
    "for i in range(10):\n",
    "    plt.imshow(X_plt[i], cmap=plt.get_cmap('gray'))\n",
    "    plt.show()"
   ]
  },
  {
   "cell_type": "code",
   "execution_count": 636,
   "id": "4d74414b",
   "metadata": {},
   "outputs": [],
   "source": [
    "X_train = X_train.astype('float32')/255\n",
    "X_test = X_test.astype('float32')/255"
   ]
  },
  {
   "cell_type": "code",
   "execution_count": 637,
   "id": "1d10961f",
   "metadata": {},
   "outputs": [],
   "source": [
    "X_train = X_train.to_numpy()\n",
    "X_test = X_test.to_numpy()"
   ]
  },
  {
   "cell_type": "code",
   "execution_count": 638,
   "id": "33815794",
   "metadata": {},
   "outputs": [],
   "source": [
    "X_train = X_train.reshape(X_train.shape[0], 28, 28, 1)\n",
    "X_test = X_test.reshape(X_test.shape[0], 28, 28, 1)"
   ]
  },
  {
   "cell_type": "code",
   "execution_count": 639,
   "id": "8b83c239",
   "metadata": {},
   "outputs": [],
   "source": [
    "y_train = utils.to_categorical(y_train, 10)\n",
    "y_test = utils.to_categorical(y_test, 10)"
   ]
  },
  {
   "cell_type": "code",
   "execution_count": 641,
   "id": "e76a9bf0",
   "metadata": {},
   "outputs": [],
   "source": [
    "cnn = Sequential()"
   ]
  },
  {
   "cell_type": "code",
   "execution_count": 642,
   "id": "4b4b36a3",
   "metadata": {},
   "outputs": [],
   "source": [
    "cnn.add(Conv2D(filters = 6, kernel_size = (3, 3), activation = 'relu', input_shape = (28, 28, 1)))\n",
    "cnn.add(MaxPooling2D(pool_size = (2, 2)))\n",
    "cnn.add(Conv2D(filters = 16, kernel_size = (3, 3), activation = 'relu'))\n",
    "cnn.add(MaxPooling2D(pool_size = (2, 2)))"
   ]
  },
  {
   "cell_type": "markdown",
   "id": "a64801c3",
   "metadata": {},
   "source": [
    "Only two convolution layers were created. Having more or less would cause the accuracy to decrease."
   ]
  },
  {
   "cell_type": "code",
   "execution_count": 643,
   "id": "8290906f",
   "metadata": {},
   "outputs": [],
   "source": [
    "cnn.add(Flatten())\n",
    "cnn.add(Dense(128, activation = 'relu'))\n",
    "cnn.add(Dense(32, activation = 'relu'))\n",
    "cnn.add(Dense(10, activation = 'softmax'))"
   ]
  },
  {
   "cell_type": "markdown",
   "id": "24930ab7",
   "metadata": {},
   "source": [
    "Having more than two dense layers would not make the accuracy increase."
   ]
  },
  {
   "cell_type": "code",
   "execution_count": 644,
   "id": "fc893a6c",
   "metadata": {},
   "outputs": [],
   "source": [
    "cnn.compile(loss = 'categorical_crossentropy', optimizer = 'adam', metrics = ['accuracy'])"
   ]
  },
  {
   "cell_type": "code",
   "execution_count": 645,
   "id": "c4534701",
   "metadata": {},
   "outputs": [],
   "source": [
    "early_stop = EarlyStopping(monitor = 'val_loss', patience = 10, verbose = 1)"
   ]
  },
  {
   "cell_type": "code",
   "execution_count": 646,
   "id": "f6b9ab9a",
   "metadata": {},
   "outputs": [
    {
     "name": "stdout",
     "output_type": "stream",
     "text": [
      "Epoch 1/50\n",
      "176/176 [==============================] - 9s 50ms/step - loss: 0.5367 - accuracy: 0.8507 - val_loss: 0.1300 - val_accuracy: 0.9595\n",
      "Epoch 2/50\n",
      "176/176 [==============================] - 8s 46ms/step - loss: 0.1085 - accuracy: 0.9670 - val_loss: 0.0816 - val_accuracy: 0.9753\n",
      "Epoch 3/50\n",
      "176/176 [==============================] - 8s 47ms/step - loss: 0.0732 - accuracy: 0.9776 - val_loss: 0.0608 - val_accuracy: 0.9819\n",
      "Epoch 4/50\n",
      "176/176 [==============================] - 8s 48ms/step - loss: 0.0566 - accuracy: 0.9829 - val_loss: 0.0535 - val_accuracy: 0.9841\n",
      "Epoch 5/50\n",
      "176/176 [==============================] - 9s 49ms/step - loss: 0.0459 - accuracy: 0.9859 - val_loss: 0.0441 - val_accuracy: 0.9855\n",
      "Epoch 6/50\n",
      "176/176 [==============================] - 8s 44ms/step - loss: 0.0386 - accuracy: 0.9878 - val_loss: 0.0439 - val_accuracy: 0.9866\n",
      "Epoch 7/50\n",
      "176/176 [==============================] - 10s 58ms/step - loss: 0.0333 - accuracy: 0.9896 - val_loss: 0.0376 - val_accuracy: 0.9883\n",
      "Epoch 8/50\n",
      "176/176 [==============================] - 9s 48ms/step - loss: 0.0294 - accuracy: 0.9909 - val_loss: 0.0422 - val_accuracy: 0.9866\n",
      "Epoch 9/50\n",
      "176/176 [==============================] - 8s 48ms/step - loss: 0.0264 - accuracy: 0.9917 - val_loss: 0.0309 - val_accuracy: 0.9898\n",
      "Epoch 10/50\n",
      "176/176 [==============================] - 9s 48ms/step - loss: 0.0229 - accuracy: 0.9930 - val_loss: 0.0318 - val_accuracy: 0.9897\n",
      "Epoch 11/50\n",
      "176/176 [==============================] - 8s 48ms/step - loss: 0.0208 - accuracy: 0.9933 - val_loss: 0.0304 - val_accuracy: 0.9908\n",
      "Epoch 12/50\n",
      "176/176 [==============================] - 9s 52ms/step - loss: 0.0185 - accuracy: 0.9939 - val_loss: 0.0335 - val_accuracy: 0.9902\n",
      "Epoch 13/50\n",
      "176/176 [==============================] - 10s 55ms/step - loss: 0.0194 - accuracy: 0.9939 - val_loss: 0.0311 - val_accuracy: 0.9901\n",
      "Epoch 14/50\n",
      "176/176 [==============================] - 9s 52ms/step - loss: 0.0162 - accuracy: 0.9951 - val_loss: 0.0376 - val_accuracy: 0.9883\n",
      "Epoch 15/50\n",
      "176/176 [==============================] - 10s 55ms/step - loss: 0.0159 - accuracy: 0.9947 - val_loss: 0.0282 - val_accuracy: 0.9915\n",
      "Epoch 16/50\n",
      "176/176 [==============================] - 8s 47ms/step - loss: 0.0133 - accuracy: 0.9956 - val_loss: 0.0270 - val_accuracy: 0.9916\n",
      "Epoch 17/50\n",
      "176/176 [==============================] - 9s 49ms/step - loss: 0.0124 - accuracy: 0.9960 - val_loss: 0.0267 - val_accuracy: 0.9921\n",
      "Epoch 18/50\n",
      "176/176 [==============================] - 9s 51ms/step - loss: 0.0123 - accuracy: 0.9957 - val_loss: 0.0328 - val_accuracy: 0.9911\n",
      "Epoch 19/50\n",
      "176/176 [==============================] - 10s 56ms/step - loss: 0.0104 - accuracy: 0.9968 - val_loss: 0.0285 - val_accuracy: 0.9913\n",
      "Epoch 20/50\n",
      "176/176 [==============================] - 12s 66ms/step - loss: 0.0096 - accuracy: 0.9972 - val_loss: 0.0265 - val_accuracy: 0.9919\n",
      "Epoch 21/50\n",
      "176/176 [==============================] - 11s 61ms/step - loss: 0.0089 - accuracy: 0.9972 - val_loss: 0.0273 - val_accuracy: 0.9927\n",
      "Epoch 22/50\n",
      "176/176 [==============================] - 10s 59ms/step - loss: 0.0084 - accuracy: 0.9973 - val_loss: 0.0284 - val_accuracy: 0.9921\n",
      "Epoch 23/50\n",
      "176/176 [==============================] - 11s 62ms/step - loss: 0.0067 - accuracy: 0.9980 - val_loss: 0.0271 - val_accuracy: 0.9922\n",
      "Epoch 24/50\n",
      "176/176 [==============================] - 9s 52ms/step - loss: 0.0084 - accuracy: 0.9972 - val_loss: 0.0382 - val_accuracy: 0.9891\n",
      "Epoch 25/50\n",
      "176/176 [==============================] - 10s 56ms/step - loss: 0.0085 - accuracy: 0.9973 - val_loss: 0.0293 - val_accuracy: 0.9919\n",
      "Epoch 26/50\n",
      "176/176 [==============================] - 10s 55ms/step - loss: 0.0052 - accuracy: 0.9984 - val_loss: 0.0328 - val_accuracy: 0.9908\n",
      "Epoch 27/50\n",
      "176/176 [==============================] - 10s 60ms/step - loss: 0.0062 - accuracy: 0.9978 - val_loss: 0.0277 - val_accuracy: 0.9931\n",
      "Epoch 28/50\n",
      "176/176 [==============================] - 9s 53ms/step - loss: 0.0049 - accuracy: 0.9985 - val_loss: 0.0289 - val_accuracy: 0.9916\n",
      "Epoch 29/50\n",
      "176/176 [==============================] - 10s 58ms/step - loss: 0.0048 - accuracy: 0.9985 - val_loss: 0.0282 - val_accuracy: 0.9923\n",
      "Epoch 30/50\n",
      "176/176 [==============================] - 10s 56ms/step - loss: 0.0040 - accuracy: 0.9987 - val_loss: 0.0259 - val_accuracy: 0.9932\n",
      "Epoch 31/50\n",
      "176/176 [==============================] - 10s 57ms/step - loss: 0.0028 - accuracy: 0.9993 - val_loss: 0.0314 - val_accuracy: 0.9931\n",
      "Epoch 32/50\n",
      "176/176 [==============================] - 11s 60ms/step - loss: 0.0024 - accuracy: 0.9993 - val_loss: 0.0307 - val_accuracy: 0.9919\n",
      "Epoch 33/50\n",
      "176/176 [==============================] - 10s 56ms/step - loss: 0.0061 - accuracy: 0.9983 - val_loss: 0.0312 - val_accuracy: 0.9913\n",
      "Epoch 34/50\n",
      "176/176 [==============================] - 9s 53ms/step - loss: 0.0042 - accuracy: 0.9985 - val_loss: 0.0321 - val_accuracy: 0.9922\n",
      "Epoch 35/50\n",
      "176/176 [==============================] - 9s 50ms/step - loss: 0.0034 - accuracy: 0.9990 - val_loss: 0.0333 - val_accuracy: 0.9917\n",
      "Epoch 36/50\n",
      "176/176 [==============================] - 10s 56ms/step - loss: 0.0028 - accuracy: 0.9990 - val_loss: 0.0320 - val_accuracy: 0.9923\n",
      "Epoch 37/50\n",
      "176/176 [==============================] - 11s 60ms/step - loss: 0.0039 - accuracy: 0.9985 - val_loss: 0.0308 - val_accuracy: 0.9927\n",
      "Epoch 38/50\n",
      "176/176 [==============================] - 12s 67ms/step - loss: 0.0040 - accuracy: 0.9988 - val_loss: 0.0302 - val_accuracy: 0.9924\n",
      "Epoch 39/50\n",
      "176/176 [==============================] - 10s 58ms/step - loss: 0.0038 - accuracy: 0.9988 - val_loss: 0.0344 - val_accuracy: 0.9924\n",
      "Epoch 40/50\n",
      "176/176 [==============================] - 9s 50ms/step - loss: 0.0030 - accuracy: 0.9989 - val_loss: 0.0293 - val_accuracy: 0.9932\n",
      "Epoch 00040: early stopping\n"
     ]
    },
    {
     "data": {
      "text/plain": [
       "<keras.callbacks.History at 0x131ffe4c970>"
      ]
     },
     "execution_count": 646,
     "metadata": {},
     "output_type": "execute_result"
    }
   ],
   "source": [
    "cnn.fit(X_train, y_train,\n",
    "       validation_data = (X_test, y_test),\n",
    "        batch_size = 256,\n",
    "        epochs = 50,\n",
    "        callbacks = early_stop\n",
    ")"
   ]
  },
  {
   "cell_type": "code",
   "execution_count": 668,
   "id": "a7e3099b",
   "metadata": {},
   "outputs": [
    {
     "name": "stdout",
     "output_type": "stream",
     "text": [
      "Model: \"sequential_52\"\n",
      "_________________________________________________________________\n",
      " Layer (type)                Output Shape              Param #   \n",
      "=================================================================\n",
      " conv2d_95 (Conv2D)          (None, 26, 26, 6)         60        \n",
      "                                                                 \n",
      " max_pooling2d_94 (MaxPoolin  (None, 13, 13, 6)        0         \n",
      " g2D)                                                            \n",
      "                                                                 \n",
      " conv2d_96 (Conv2D)          (None, 11, 11, 16)        880       \n",
      "                                                                 \n",
      " max_pooling2d_95 (MaxPoolin  (None, 5, 5, 16)         0         \n",
      " g2D)                                                            \n",
      "                                                                 \n",
      " flatten_48 (Flatten)        (None, 400)               0         \n",
      "                                                                 \n",
      " dense_153 (Dense)           (None, 128)               51328     \n",
      "                                                                 \n",
      " dense_154 (Dense)           (None, 32)                4128      \n",
      "                                                                 \n",
      " dense_155 (Dense)           (None, 10)                330       \n",
      "                                                                 \n",
      "=================================================================\n",
      "Total params: 56,726\n",
      "Trainable params: 56,726\n",
      "Non-trainable params: 0\n",
      "_________________________________________________________________\n"
     ]
    }
   ],
   "source": [
    "cnn.summary()"
   ]
  },
  {
   "cell_type": "code",
   "execution_count": 647,
   "id": "6d3ad92c",
   "metadata": {},
   "outputs": [],
   "source": [
    "y_preds = [np.argmax(arr) for arr in cnn.predict(X_test)]\n",
    "y_test_again = [np.argmax(arr) for arr in y_test]"
   ]
  },
  {
   "cell_type": "code",
   "execution_count": 648,
   "id": "29dd4303",
   "metadata": {},
   "outputs": [],
   "source": [
    "y_total = [[y_preds[i], y_test_again[i]] for i in range(len(y_preds))]"
   ]
  },
  {
   "cell_type": "code",
   "execution_count": 649,
   "id": "43612758",
   "metadata": {},
   "outputs": [],
   "source": [
    "# Number of unique (predicted, actual) pairs for y_test\n",
    "y_unique = np.unique(y_total, axis = 0, return_counts = True)"
   ]
  },
  {
   "cell_type": "code",
   "execution_count": 650,
   "id": "c6a36cc1",
   "metadata": {},
   "outputs": [
    {
     "data": {
      "image/png": "[encoded data removed]",
      "text/plain": [
       "<Figure size 432x288 with 1 Axes>"
      ]
     },
     "metadata": {
      "needs_background": "light"
     },
     "output_type": "display_data"
    }
   ],
   "source": [
    "for i in range(len(y_unique[0])):\n",
    "    if y_unique[0][i][0] != y_unique[0][i][1]:\n",
    "        plt.plot(y_unique[0][i][0], y_unique[0][i][1], 'ro', markersize=y_unique[1][i])\n",
    "\n",
    "plt.title(\"Frequency of Incorrectly Predicted Digits\")\n",
    "plt.xlabel(\"Predicted Digit\")\n",
    "plt.ylabel(\"Correct Digit\");"
   ]
  },
  {
   "cell_type": "markdown",
   "id": "3c21841d",
   "metadata": {},
   "source": [
    "Since the symbols for 0 and 1 look very similar, it is not surprising that there are a significant number of times where 0 and 1 were mistaken for each other using the model. On the other hand, it is odd that there are much more cases in which a 6 was identified as a 7 or a 9 than vice versa, as the three also look similar."
   ]
  },
  {
   "cell_type": "code",
   "execution_count": 651,
   "id": "1228c0d8",
   "metadata": {},
   "outputs": [
    {
     "name": "stdout",
     "output_type": "stream",
     "text": [
      "[0, 1, 2, 3, 4, 5, 6, 7, 8, 9]\n",
      "[1465, 1507, 1549, 1470, 1527, 1484, 1468, 1521, 1459, 1448]\n"
     ]
    },
    {
     "data": {
      "image/png": "[encoded data removed]",
      "text/plain": [
       "<Figure size 432x288 with 1 Axes>"
      ]
     },
     "metadata": {
      "needs_background": "light"
     },
     "output_type": "display_data"
    }
   ],
   "source": [
    "vals = list(range(10))\n",
    "vals_count = []\n",
    "\n",
    "for i in range(len(y_unique[0])):\n",
    "    if y_unique[0][i][0] == y_unique[0][i][1]:\n",
    "        vals_count.append(y_unique[1][i])\n",
    "        \n",
    "print(vals)\n",
    "print(vals_count)\n",
    "      \n",
    "plt.bar(x = vals, height = vals_count, color = 'green')\n",
    "plt.title(\"Frequency of Correctly Predicted Digits\");"
   ]
  },
  {
   "cell_type": "markdown",
   "id": "b85550bf",
   "metadata": {},
   "source": [
    "The symbol for 2 is the most unique since it covers a great horizontal distance, so it is expected that the most correctly predicted digits would be 2's."
   ]
  },
  {
   "cell_type": "code",
   "execution_count": 660,
   "id": "733f3fbb",
   "metadata": {},
   "outputs": [],
   "source": [
    "df_test = pd.read_csv('data/test.csv')\n",
    "\n",
    "Xt = df_test.drop(columns = 'id')\n",
    "Xt = Xt.astype('float32')/255.0\n",
    "Xt = Xt.to_numpy()\n",
    "Xt = Xt.reshape(Xt.shape[0], 28, 28, 1)"
   ]
  },
  {
   "cell_type": "code",
   "execution_count": 661,
   "id": "0cea5f44",
   "metadata": {},
   "outputs": [],
   "source": [
    "yt = cnn.predict(Xt)"
   ]
  },
  {
   "cell_type": "code",
   "execution_count": 663,
   "id": "d96ce07d",
   "metadata": {},
   "outputs": [],
   "source": [
    "yt_again = [np.argmax(arr) for arr in yt]"
   ]
  },
  {
   "cell_type": "code",
   "execution_count": 665,
   "id": "4e5bb182",
   "metadata": {},
   "outputs": [],
   "source": [
    "preds_df = pd.DataFrame({'id': df_test['id'], 'label': yt_again})"
   ]
  },
  {
   "cell_type": "code",
   "execution_count": 667,
   "id": "285434ea",
   "metadata": {},
   "outputs": [],
   "source": [
    "preds_df.to_csv('data/submission.csv', index = False)"
   ]
  },
  {
   "cell_type": "markdown",
   "id": "a847a7c7",
   "metadata": {},
   "source": [
    "After submitting to Kaggle, the accuracy for half of the test dataset was 0.9688 and the accuracy for the other half was 0.971, indicating that our model is well fit."
   ]
  },
  {
   "cell_type": "code",
   "execution_count": null,
   "id": "1e0fcca8",
   "metadata": {},
   "outputs": [],
   "source": []
  }
 ],
 "metadata": {
  "kernelspec": {
   "display_name": "Python 3",
   "language": "python",
   "name": "python3"
  },
  "language_info": {
   "codemirror_mode": {
    "name": "ipython",
    "version": 3
   },
   "file_extension": ".py",
   "mimetype": "text/x-python",
   "name": "python",
   "nbconvert_exporter": "python",
   "pygments_lexer": "ipython3",
   "version": "3.8.8"
  }
 },
 "nbformat": 4,
 "nbformat_minor": 5
}
